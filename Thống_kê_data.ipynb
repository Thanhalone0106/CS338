{
  "cells": [
    {
      "cell_type": "markdown",
      "source": [
        "#K+Kiểm tra cấu hình máy "
      ],
      "metadata": {
        "id": "mFw3JxyzxAfV"
      }
    },
    {
      "cell_type": "code",
      "execution_count": null,
      "metadata": {
        "colab": {
          "base_uri": "https://localhost:8080/"
        },
        "id": "yMSJWnvoq4mJ",
        "outputId": "e2ec3a0c-0c12-4332-9621-2283c29fd168"
      },
      "outputs": [
        {
          "name": "stdout",
          "output_type": "stream",
          "text": [
            "NVIDIA-SMI has failed because it couldn't communicate with the NVIDIA driver. Make sure that the latest NVIDIA driver is installed and running.\n",
            "\n"
          ]
        }
      ],
      "source": [
        "!nvidia-smi"
      ]
    },
    {
      "cell_type": "code",
      "execution_count": null,
      "metadata": {
        "colab": {
          "base_uri": "https://localhost:8080/"
        },
        "id": "6qDw9xKAYOeg",
        "outputId": "747524a0-1462-4bb0-e640-d29853029736"
      },
      "outputs": [
        {
          "name": "stdout",
          "output_type": "stream",
          "text": [
            "Cloning into 'yolov5'...\n",
            "remote: Enumerating objects: 15287, done.\u001b[K\n",
            "remote: Total 15287 (delta 0), reused 0 (delta 0), pack-reused 15287\u001b[K\n",
            "Receiving objects: 100% (15287/15287), 14.18 MiB | 18.09 MiB/s, done.\n",
            "Resolving deltas: 100% (10483/10483), done.\n",
            "Looking in indexes: https://pypi.org/simple, https://us-python.pkg.dev/colab-wheels/public/simple/\n",
            "Collecting gitpython>=3.1.30\n",
            "  Downloading GitPython-3.1.31-py3-none-any.whl (184 kB)\n",
            "\u001b[2K     \u001b[90m━━━━━━━━━━━━━━━━━━━━━━━━━━━━━━━━━━━━━━━\u001b[0m \u001b[32m184.3/184.3 KB\u001b[0m \u001b[31m4.6 MB/s\u001b[0m eta \u001b[36m0:00:00\u001b[0m\n",
            "\u001b[?25hRequirement already satisfied: matplotlib>=3.2.2 in /usr/local/lib/python3.8/dist-packages (from -r yolov5/requirements.txt (line 6)) (3.5.3)\n",
            "Collecting matplotlib>=3.2.2\n",
            "  Downloading matplotlib-3.7.0-cp38-cp38-manylinux_2_12_x86_64.manylinux2010_x86_64.whl (9.2 MB)\n",
            "\u001b[2K     \u001b[90m━━━━━━━━━━━━━━━━━━━━━━━━━━━━━━━━━━━━━━━━\u001b[0m \u001b[32m9.2/9.2 MB\u001b[0m \u001b[31m29.8 MB/s\u001b[0m eta \u001b[36m0:00:00\u001b[0m\n",
            "\u001b[?25hRequirement already satisfied: numpy>=1.18.5 in /usr/local/lib/python3.8/dist-packages (from -r yolov5/requirements.txt (line 7)) (1.22.4)\n",
            "Collecting numpy>=1.18.5\n",
            "  Downloading numpy-1.24.2-cp38-cp38-manylinux_2_17_x86_64.manylinux2014_x86_64.whl (17.3 MB)\n",
            "\u001b[2K     \u001b[90m━━━━━━━━━━━━━━━━━━━━━━━━━━━━━━━━━━━━━━━━\u001b[0m \u001b[32m17.3/17.3 MB\u001b[0m \u001b[31m46.0 MB/s\u001b[0m eta \u001b[36m0:00:00\u001b[0m\n",
            "\u001b[?25hRequirement already satisfied: opencv-python>=4.1.1 in /usr/local/lib/python3.8/dist-packages (from -r yolov5/requirements.txt (line 8)) (4.6.0.66)\n",
            "Collecting opencv-python>=4.1.1\n",
            "  Downloading opencv_python-4.7.0.72-cp37-abi3-manylinux_2_17_x86_64.manylinux2014_x86_64.whl (61.8 MB)\n",
            "\u001b[2K     \u001b[90m━━━━━━━━━━━━━━━━━━━━━━━━━━━━━━━━━━━━━━━━\u001b[0m \u001b[32m61.8/61.8 MB\u001b[0m \u001b[31m9.3 MB/s\u001b[0m eta \u001b[36m0:00:00\u001b[0m\n",
            "\u001b[?25hRequirement already satisfied: Pillow>=7.1.2 in /usr/local/lib/python3.8/dist-packages (from -r yolov5/requirements.txt (line 9)) (8.4.0)\n",
            "Collecting Pillow>=7.1.2\n",
            "  Downloading Pillow-9.4.0-cp38-cp38-manylinux_2_28_x86_64.whl (3.4 MB)\n",
            "\u001b[2K     \u001b[90m━━━━━━━━━━━━━━━━━━━━━━━━━━━━━━━━━━━━━━━━\u001b[0m \u001b[32m3.4/3.4 MB\u001b[0m \u001b[31m12.2 MB/s\u001b[0m eta \u001b[36m0:00:00\u001b[0m\n",
            "\u001b[?25hRequirement already satisfied: psutil in /usr/local/lib/python3.8/dist-packages (from -r yolov5/requirements.txt (line 10)) (5.4.8)\n",
            "Collecting psutil\n",
            "  Downloading psutil-5.9.4-cp36-abi3-manylinux_2_12_x86_64.manylinux2010_x86_64.manylinux_2_17_x86_64.manylinux2014_x86_64.whl (280 kB)\n",
            "\u001b[2K     \u001b[90m━━━━━━━━━━━━━━━━━━━━━━━━━━━━━━━━━━━━━━\u001b[0m \u001b[32m280.2/280.2 KB\u001b[0m \u001b[31m15.4 MB/s\u001b[0m eta \u001b[36m0:00:00\u001b[0m\n",
            "\u001b[?25hRequirement already satisfied: PyYAML>=5.3.1 in /usr/local/lib/python3.8/dist-packages (from -r yolov5/requirements.txt (line 11)) (6.0)\n",
            "Requirement already satisfied: requests>=2.23.0 in /usr/local/lib/python3.8/dist-packages (from -r yolov5/requirements.txt (line 12)) (2.25.1)\n",
            "Collecting requests>=2.23.0\n",
            "  Downloading requests-2.28.2-py3-none-any.whl (62 kB)\n",
            "\u001b[2K     \u001b[90m━━━━━━━━━━━━━━━━━━━━━━━━━━━━━━━━━━━━━━━━\u001b[0m \u001b[32m62.8/62.8 KB\u001b[0m \u001b[31m4.1 MB/s\u001b[0m eta \u001b[36m0:00:00\u001b[0m\n",
            "\u001b[?25hRequirement already satisfied: scipy>=1.4.1 in /usr/local/lib/python3.8/dist-packages (from -r yolov5/requirements.txt (line 13)) (1.10.1)\n",
            "Collecting thop>=0.1.1\n",
            "  Downloading thop-0.1.1.post2209072238-py3-none-any.whl (15 kB)\n",
            "Requirement already satisfied: torch>=1.7.0 in /usr/local/lib/python3.8/dist-packages (from -r yolov5/requirements.txt (line 15)) (1.13.1+cu116)\n",
            "Requirement already satisfied: torchvision>=0.8.1 in /usr/local/lib/python3.8/dist-packages (from -r yolov5/requirements.txt (line 16)) (0.14.1+cu116)\n",
            "Requirement already satisfied: tqdm>=4.64.0 in /usr/local/lib/python3.8/dist-packages (from -r yolov5/requirements.txt (line 17)) (4.64.1)\n",
            "Requirement already satisfied: tensorboard>=2.4.1 in /usr/local/lib/python3.8/dist-packages (from -r yolov5/requirements.txt (line 21)) (2.11.2)\n",
            "Collecting tensorboard>=2.4.1\n",
            "  Downloading tensorboard-2.12.0-py3-none-any.whl (5.6 MB)\n",
            "\u001b[2K     \u001b[90m━━━━━━━━━━━━━━━━━━━━━━━━━━━━━━━━━━━━━━━━\u001b[0m \u001b[32m5.6/5.6 MB\u001b[0m \u001b[31m49.2 MB/s\u001b[0m eta \u001b[36m0:00:00\u001b[0m\n",
            "\u001b[?25hRequirement already satisfied: pandas>=1.1.4 in /usr/local/lib/python3.8/dist-packages (from -r yolov5/requirements.txt (line 26)) (1.3.5)\n",
            "Collecting pandas>=1.1.4\n",
            "  Downloading pandas-1.5.3-cp38-cp38-manylinux_2_17_x86_64.manylinux2014_x86_64.whl (12.2 MB)\n",
            "\u001b[2K     \u001b[90m━━━━━━━━━━━━━━━━━━━━━━━━━━━━━━━━━━━━━━━━\u001b[0m \u001b[32m12.2/12.2 MB\u001b[0m \u001b[31m46.2 MB/s\u001b[0m eta \u001b[36m0:00:00\u001b[0m\n",
            "\u001b[?25hRequirement already satisfied: seaborn>=0.11.0 in /usr/local/lib/python3.8/dist-packages (from -r yolov5/requirements.txt (line 27)) (0.11.2)\n",
            "Collecting seaborn>=0.11.0\n",
            "  Downloading seaborn-0.12.2-py3-none-any.whl (293 kB)\n",
            "\u001b[2K     \u001b[90m━━━━━━━━━━━━━━━━━━━━━━━━━━━━━━━━━━━━━━\u001b[0m \u001b[32m293.3/293.3 KB\u001b[0m \u001b[31m29.1 MB/s\u001b[0m eta \u001b[36m0:00:00\u001b[0m\n",
            "\u001b[?25hCollecting setuptools>=65.5.1\n",
            "  Downloading setuptools-67.4.0-py3-none-any.whl (1.1 MB)\n",
            "\u001b[2K     \u001b[90m━━━━━━━━━━━━━━━━━━━━━━━━━━━━━━━━━━━━━━━━\u001b[0m \u001b[32m1.1/1.1 MB\u001b[0m \u001b[31m45.8 MB/s\u001b[0m eta \u001b[36m0:00:00\u001b[0m\n",
            "\u001b[?25hCollecting gitdb<5,>=4.0.1\n",
            "  Downloading gitdb-4.0.10-py3-none-any.whl (62 kB)\n",
            "\u001b[2K     \u001b[90m━━━━━━━━━━━━━━━━━━━━━━━━━━━━━━━━━━━━━━━━\u001b[0m \u001b[32m62.7/62.7 KB\u001b[0m \u001b[31m3.8 MB/s\u001b[0m eta \u001b[36m0:00:00\u001b[0m\n",
            "\u001b[?25hRequirement already satisfied: kiwisolver>=1.0.1 in /usr/local/lib/python3.8/dist-packages (from matplotlib>=3.2.2->-r yolov5/requirements.txt (line 6)) (1.4.4)\n",
            "Collecting contourpy>=1.0.1\n",
            "  Downloading contourpy-1.0.7-cp38-cp38-manylinux_2_17_x86_64.manylinux2014_x86_64.whl (300 kB)\n",
            "\u001b[2K     \u001b[90m━━━━━━━━━━━━━━━━━━━━━━━━━━━━━━━━━━━━━━\u001b[0m \u001b[32m300.0/300.0 KB\u001b[0m \u001b[31m24.4 MB/s\u001b[0m eta \u001b[36m0:00:00\u001b[0m\n",
            "\u001b[?25hRequirement already satisfied: cycler>=0.10 in /usr/local/lib/python3.8/dist-packages (from matplotlib>=3.2.2->-r yolov5/requirements.txt (line 6)) (0.11.0)\n",
            "Requirement already satisfied: packaging>=20.0 in /usr/local/lib/python3.8/dist-packages (from matplotlib>=3.2.2->-r yolov5/requirements.txt (line 6)) (23.0)\n",
            "Requirement already satisfied: fonttools>=4.22.0 in /usr/local/lib/python3.8/dist-packages (from matplotlib>=3.2.2->-r yolov5/requirements.txt (line 6)) (4.38.0)\n",
            "Requirement already satisfied: pyparsing>=2.3.1 in /usr/local/lib/python3.8/dist-packages (from matplotlib>=3.2.2->-r yolov5/requirements.txt (line 6)) (3.0.9)\n",
            "Requirement already satisfied: python-dateutil>=2.7 in /usr/local/lib/python3.8/dist-packages (from matplotlib>=3.2.2->-r yolov5/requirements.txt (line 6)) (2.8.2)\n",
            "Requirement already satisfied: importlib-resources>=3.2.0 in /usr/local/lib/python3.8/dist-packages (from matplotlib>=3.2.2->-r yolov5/requirements.txt (line 6)) (5.12.0)\n",
            "Requirement already satisfied: charset-normalizer<4,>=2 in /usr/local/lib/python3.8/dist-packages (from requests>=2.23.0->-r yolov5/requirements.txt (line 12)) (3.0.1)\n",
            "Requirement already satisfied: certifi>=2017.4.17 in /usr/local/lib/python3.8/dist-packages (from requests>=2.23.0->-r yolov5/requirements.txt (line 12)) (2022.12.7)\n",
            "Requirement already satisfied: urllib3<1.27,>=1.21.1 in /usr/local/lib/python3.8/dist-packages (from requests>=2.23.0->-r yolov5/requirements.txt (line 12)) (1.26.14)\n",
            "Requirement already satisfied: idna<4,>=2.5 in /usr/local/lib/python3.8/dist-packages (from requests>=2.23.0->-r yolov5/requirements.txt (line 12)) (2.10)\n",
            "Requirement already satisfied: typing-extensions in /usr/local/lib/python3.8/dist-packages (from torch>=1.7.0->-r yolov5/requirements.txt (line 15)) (4.5.0)\n",
            "Requirement already satisfied: wheel>=0.26 in /usr/local/lib/python3.8/dist-packages (from tensorboard>=2.4.1->-r yolov5/requirements.txt (line 21)) (0.38.4)\n",
            "Requirement already satisfied: google-auth<3,>=1.6.3 in /usr/local/lib/python3.8/dist-packages (from tensorboard>=2.4.1->-r yolov5/requirements.txt (line 21)) (2.16.1)\n",
            "Requirement already satisfied: werkzeug>=1.0.1 in /usr/local/lib/python3.8/dist-packages (from tensorboard>=2.4.1->-r yolov5/requirements.txt (line 21)) (2.2.3)\n",
            "Requirement already satisfied: tensorboard-plugin-wit>=1.6.0 in /usr/local/lib/python3.8/dist-packages (from tensorboard>=2.4.1->-r yolov5/requirements.txt (line 21)) (1.8.1)\n",
            "Requirement already satisfied: google-auth-oauthlib<0.5,>=0.4.1 in /usr/local/lib/python3.8/dist-packages (from tensorboard>=2.4.1->-r yolov5/requirements.txt (line 21)) (0.4.6)\n",
            "Requirement already satisfied: markdown>=2.6.8 in /usr/local/lib/python3.8/dist-packages (from tensorboard>=2.4.1->-r yolov5/requirements.txt (line 21)) (3.4.1)\n",
            "Collecting tensorboard-data-server<0.8.0,>=0.7.0\n",
            "  Downloading tensorboard_data_server-0.7.0-py3-none-manylinux2014_x86_64.whl (6.6 MB)\n",
            "\u001b[2K     \u001b[90m━━━━━━━━━━━━━━━━━━━━━━━━━━━━━━━━━━━━━━━━\u001b[0m \u001b[32m6.6/6.6 MB\u001b[0m \u001b[31m64.7 MB/s\u001b[0m eta \u001b[36m0:00:00\u001b[0m\n",
            "\u001b[?25hRequirement already satisfied: absl-py>=0.4 in /usr/local/lib/python3.8/dist-packages (from tensorboard>=2.4.1->-r yolov5/requirements.txt (line 21)) (1.4.0)\n",
            "Requirement already satisfied: grpcio>=1.48.2 in /usr/local/lib/python3.8/dist-packages (from tensorboard>=2.4.1->-r yolov5/requirements.txt (line 21)) (1.51.3)\n",
            "Requirement already satisfied: protobuf>=3.19.6 in /usr/local/lib/python3.8/dist-packages (from tensorboard>=2.4.1->-r yolov5/requirements.txt (line 21)) (3.19.6)\n",
            "Requirement already satisfied: pytz>=2020.1 in /usr/local/lib/python3.8/dist-packages (from pandas>=1.1.4->-r yolov5/requirements.txt (line 26)) (2022.7.1)\n",
            "Collecting smmap<6,>=3.0.1\n",
            "  Downloading smmap-5.0.0-py3-none-any.whl (24 kB)\n",
            "Requirement already satisfied: pyasn1-modules>=0.2.1 in /usr/local/lib/python3.8/dist-packages (from google-auth<3,>=1.6.3->tensorboard>=2.4.1->-r yolov5/requirements.txt (line 21)) (0.2.8)\n",
            "Requirement already satisfied: cachetools<6.0,>=2.0.0 in /usr/local/lib/python3.8/dist-packages (from google-auth<3,>=1.6.3->tensorboard>=2.4.1->-r yolov5/requirements.txt (line 21)) (5.3.0)\n",
            "Requirement already satisfied: rsa<5,>=3.1.4 in /usr/local/lib/python3.8/dist-packages (from google-auth<3,>=1.6.3->tensorboard>=2.4.1->-r yolov5/requirements.txt (line 21)) (4.9)\n",
            "Requirement already satisfied: six>=1.9.0 in /usr/local/lib/python3.8/dist-packages (from google-auth<3,>=1.6.3->tensorboard>=2.4.1->-r yolov5/requirements.txt (line 21)) (1.15.0)\n",
            "Requirement already satisfied: requests-oauthlib>=0.7.0 in /usr/local/lib/python3.8/dist-packages (from google-auth-oauthlib<0.5,>=0.4.1->tensorboard>=2.4.1->-r yolov5/requirements.txt (line 21)) (1.3.1)\n",
            "Requirement already satisfied: zipp>=3.1.0 in /usr/local/lib/python3.8/dist-packages (from importlib-resources>=3.2.0->matplotlib>=3.2.2->-r yolov5/requirements.txt (line 6)) (3.15.0)\n",
            "Requirement already satisfied: importlib-metadata>=4.4 in /usr/local/lib/python3.8/dist-packages (from markdown>=2.6.8->tensorboard>=2.4.1->-r yolov5/requirements.txt (line 21)) (6.0.0)\n",
            "Requirement already satisfied: MarkupSafe>=2.1.1 in /usr/local/lib/python3.8/dist-packages (from werkzeug>=1.0.1->tensorboard>=2.4.1->-r yolov5/requirements.txt (line 21)) (2.1.2)\n",
            "Requirement already satisfied: pyasn1<0.5.0,>=0.4.6 in /usr/local/lib/python3.8/dist-packages (from pyasn1-modules>=0.2.1->google-auth<3,>=1.6.3->tensorboard>=2.4.1->-r yolov5/requirements.txt (line 21)) (0.4.8)\n",
            "Requirement already satisfied: oauthlib>=3.0.0 in /usr/local/lib/python3.8/dist-packages (from requests-oauthlib>=0.7.0->google-auth-oauthlib<0.5,>=0.4.1->tensorboard>=2.4.1->-r yolov5/requirements.txt (line 21)) (3.2.2)\n",
            "Installing collected packages: tensorboard-data-server, smmap, setuptools, requests, psutil, Pillow, numpy, thop, pandas, opencv-python, gitdb, contourpy, matplotlib, gitpython, tensorboard, seaborn\n",
            "  Attempting uninstall: tensorboard-data-server\n",
            "    Found existing installation: tensorboard-data-server 0.6.1\n",
            "    Uninstalling tensorboard-data-server-0.6.1:\n",
            "      Successfully uninstalled tensorboard-data-server-0.6.1\n",
            "  Attempting uninstall: setuptools\n",
            "    Found existing installation: setuptools 57.4.0\n",
            "    Uninstalling setuptools-57.4.0:\n",
            "      Successfully uninstalled setuptools-57.4.0\n",
            "  Attempting uninstall: requests\n",
            "    Found existing installation: requests 2.25.1\n",
            "    Uninstalling requests-2.25.1:\n",
            "      Successfully uninstalled requests-2.25.1\n",
            "  Attempting uninstall: psutil\n",
            "    Found existing installation: psutil 5.4.8\n",
            "    Uninstalling psutil-5.4.8:\n",
            "      Successfully uninstalled psutil-5.4.8\n",
            "  Attempting uninstall: Pillow\n",
            "    Found existing installation: Pillow 8.4.0\n",
            "    Uninstalling Pillow-8.4.0:\n",
            "      Successfully uninstalled Pillow-8.4.0\n",
            "  Attempting uninstall: numpy\n",
            "    Found existing installation: numpy 1.22.4\n",
            "    Uninstalling numpy-1.22.4:\n",
            "      Successfully uninstalled numpy-1.22.4\n",
            "  Attempting uninstall: pandas\n",
            "    Found existing installation: pandas 1.3.5\n",
            "    Uninstalling pandas-1.3.5:\n",
            "      Successfully uninstalled pandas-1.3.5\n",
            "  Attempting uninstall: opencv-python\n",
            "    Found existing installation: opencv-python 4.6.0.66\n",
            "    Uninstalling opencv-python-4.6.0.66:\n",
            "      Successfully uninstalled opencv-python-4.6.0.66\n",
            "  Attempting uninstall: matplotlib\n",
            "    Found existing installation: matplotlib 3.5.3\n",
            "    Uninstalling matplotlib-3.5.3:\n",
            "      Successfully uninstalled matplotlib-3.5.3\n",
            "  Attempting uninstall: tensorboard\n",
            "    Found existing installation: tensorboard 2.11.2\n",
            "    Uninstalling tensorboard-2.11.2:\n",
            "      Successfully uninstalled tensorboard-2.11.2\n",
            "  Attempting uninstall: seaborn\n",
            "    Found existing installation: seaborn 0.11.2\n",
            "    Uninstalling seaborn-0.11.2:\n",
            "      Successfully uninstalled seaborn-0.11.2\n",
            "\u001b[31mERROR: pip's dependency resolver does not currently take into account all the packages that are installed. This behaviour is the source of the following dependency conflicts.\n",
            "ipython 7.9.0 requires jedi>=0.10, which is not installed.\n",
            "tensorflow 2.11.0 requires tensorboard<2.12,>=2.11, but you have tensorboard 2.12.0 which is incompatible.\n",
            "numba 0.56.4 requires numpy<1.24,>=1.18, but you have numpy 1.24.2 which is incompatible.\n",
            "cvxpy 1.2.3 requires setuptools<=64.0.2, but you have setuptools 67.4.0 which is incompatible.\u001b[0m\u001b[31m\n",
            "\u001b[0mSuccessfully installed Pillow-9.4.0 contourpy-1.0.7 gitdb-4.0.10 gitpython-3.1.31 matplotlib-3.7.0 numpy-1.24.2 opencv-python-4.7.0.72 pandas-1.5.3 psutil-5.9.4 requests-2.28.2 seaborn-0.12.2 setuptools-67.4.0 smmap-5.0.0 tensorboard-2.12.0 tensorboard-data-server-0.7.0 thop-0.1.1.post2209072238\n",
            "/content/yolov5\n"
          ]
        }
      ],
      "source": [
        "!git clone https://github.com/ultralytics/yolov5  # clone repo\n",
        "!pip install -U -r yolov5/requirements.txt  # install dependencies\n",
        "%cd /content/yolov5"
      ]
    },
    {
      "cell_type": "code",
      "execution_count": null,
      "metadata": {
        "colab": {
          "base_uri": "https://localhost:8080/"
        },
        "id": "9lmq5l3wYWHa",
        "outputId": "73043375-b3d6-475f-92d3-b7e3386f68e3"
      },
      "outputs": [
        {
          "name": "stdout",
          "output_type": "stream",
          "text": [
            "torch 1.13.1+cu116 CPU\n"
          ]
        }
      ],
      "source": [
        "import torch\n",
        "from IPython.display import Image, clear_output  # to display images\n",
        "print('torch %s %s' % (torch.__version__, torch.cuda.get_device_properties(0) if torch.cuda.is_available() else 'CPU'))"
      ]
    },
    {
      "cell_type": "markdown",
      "source": [
        "#Tải data \n"
      ],
      "metadata": {
        "id": "MPl8FdXoxQUG"
      }
    },
    {
      "cell_type": "code",
      "execution_count": null,
      "metadata": {
        "colab": {
          "base_uri": "https://localhost:8080/"
        },
        "id": "lV6d4qENZTAc",
        "outputId": "d388669c-0ba0-448b-d5ed-22eb37f09708"
      },
      "outputs": [
        {
          "name": "stdout",
          "output_type": "stream",
          "text": [
            "\u001b[2K     \u001b[90m━━━━━━━━━━━━━━━━━━━━━━━━━━━━━━━━━━━━━━━━\u001b[0m \u001b[32m50.2/50.2 KB\u001b[0m \u001b[31m5.9 MB/s\u001b[0m eta \u001b[36m0:00:00\u001b[0m\n",
            "\u001b[2K     \u001b[90m━━━━━━━━━━━━━━━━━━━━━━━━━━━━━━━━━━━━━━━━\u001b[0m \u001b[32m67.8/67.8 KB\u001b[0m \u001b[31m7.5 MB/s\u001b[0m eta \u001b[36m0:00:00\u001b[0m\n",
            "\u001b[?25h  Preparing metadata (setup.py) ... \u001b[?25l\u001b[?25hdone\n",
            "\u001b[2K     \u001b[90m━━━━━━━━━━━━━━━━━━━━━━━━━━━━━━━━━━━━━━━━\u001b[0m \u001b[32m54.5/54.5 KB\u001b[0m \u001b[31m6.1 MB/s\u001b[0m eta \u001b[36m0:00:00\u001b[0m\n",
            "\u001b[?25h  Building wheel for wget (setup.py) ... \u001b[?25l\u001b[?25hdone\n",
            "upload and label your dataset, and get an API KEY here: https://app.roboflow.com/?model=yolov5&ref=roboflow-yolov5\n"
          ]
        }
      ],
      "source": [
        "#follow the link below to get your download code from from Roboflow\n",
        "!pip install -q roboflow\n",
        "from roboflow import Roboflow\n",
        "rf = Roboflow(model_format=\"yolov5\", notebook=\"roboflow-yolov5\")"
      ]
    },
    {
      "cell_type": "code",
      "execution_count": null,
      "metadata": {
        "colab": {
          "base_uri": "https://localhost:8080/"
        },
        "id": "dxTJR388Awkc",
        "outputId": "19658367-a924-4ed8-f8aa-f8643a72f4fc"
      },
      "outputs": [
        {
          "name": "stdout",
          "output_type": "stream",
          "text": [
            "/content/yolov5\n",
            "loading Roboflow workspace...\n",
            "loading Roboflow project...\n",
            "Downloading Dataset Version Zip in BIENSOXE-5 to yolov5pytorch: 100% [152976819 / 152976819] bytes\n"
          ]
        },
        {
          "name": "stderr",
          "output_type": "stream",
          "text": [
            "Extracting Dataset Version Zip to BIENSOXE-5 in yolov5pytorch:: 100%|██████████| 4274/4274 [00:02<00:00, 1884.96it/s]\n"
          ]
        }
      ],
      "source": [
        "  %cd /content/yolov5\n",
        "  #after following the link above, recieve python code with these fields filled in\n",
        "  from roboflow import Roboflow\n",
        "  rf = Roboflow(api_key=\"2qfrIwZkt6G31Ap3K7Fh\")\n",
        "  project = rf.workspace(\"uit-5rhkt\").project(\"biensoxe-7geys\")\n",
        "  dataset = project.version(5).download(\"yolov5\")"
      ]
    },
    {
      "cell_type": "markdown",
      "source": [
        "Các loại biển trong tập dữ liệu "
      ],
      "metadata": {
        "id": "wk5vUtvdyYvd"
      }
    },
    {
      "cell_type": "code",
      "execution_count": null,
      "metadata": {
        "colab": {
          "base_uri": "https://localhost:8080/"
        },
        "id": "22bIYjP4ah4G",
        "outputId": "fbbaaaa8-1ef2-439f-93ba-900484101d72"
      },
      "outputs": [
        {
          "name": "stdout",
          "output_type": "stream",
          "text": [
            "names:\n",
            "- Bien_do\n",
            "- Bien_ngoaigiao\n",
            "- Bien_trang\n",
            "- Bien_vang\n",
            "- Bien_xanh\n",
            "nc: 5\n",
            "roboflow:\n",
            "  license: CC BY 4.0\n",
            "  project: biensoxe-7geys\n",
            "  url: https://universe.roboflow.com/uit-5rhkt/biensoxe-7geys/dataset/5\n",
            "  version: 5\n",
            "  workspace: uit-5rhkt\n",
            "test: ../test/images\n",
            "train: BIENSOXE-5/train/images\n",
            "val: BIENSOXE-5/valid/images\n"
          ]
        }
      ],
      "source": [
        "# this is the YAML file Roboflow wrote for us that we're loading into this notebook with our data\n",
        "%cat {dataset.location}/data.yaml"
      ]
    },
    {
      "cell_type": "markdown",
      "source": [
        "Sô lượng hình ảnh phân bố trong các tập dữ liêu "
      ],
      "metadata": {
        "id": "yP4VfmPUydF1"
      }
    },
    {
      "cell_type": "code",
      "execution_count": null,
      "metadata": {
        "colab": {
          "base_uri": "https://localhost:8080/"
        },
        "id": "Vj_i7Cikaoqu",
        "outputId": "c036cb82-5f11-462c-b8bb-593646df9310"
      },
      "outputs": [
        {
          "name": "stdout",
          "output_type": "stream",
          "text": [
            "Train: 1493\n",
            "Val: 414\n",
            "Test: 224\n"
          ]
        }
      ],
      "source": [
        "import os\n",
        "# print('Train: {}'.format(len(os.listdir('/content/yolov5/BIENSOXE-5/train/images'))+len(os.listdir('/content/yolov5/BIENSOXE-5/train/labels'))))\n",
        "print('Train: {}'.format(len(os.listdir('/content/yolov5/BIENSOXE-5/train/images'))))\n",
        "print('Val: {}'.format(len(os.listdir('/content/yolov5/BIENSOXE-5/valid/images'))))\n",
        "print('Test: {}'.format(len(os.listdir('/content/yolov5/BIENSOXE-5/test/images'))))"
      ]
    },
    {
      "cell_type": "markdown",
      "source": [
        "#Thống kê số lượng biển  trong các tập"
      ],
      "metadata": {
        "id": "SAqxfVFMxWu9"
      }
    },
    {
      "cell_type": "code",
      "execution_count": null,
      "metadata": {
        "id": "R93E5p4AdVre"
      },
      "outputs": [],
      "source": [
        "def thong_ke(path):\n",
        "    dem = 0\n",
        "    do=0\n",
        "    ngoaigiao=0\n",
        "    trang=0\n",
        "    vang=0\n",
        "    xanh = 0\n",
        "    for i in os.listdir(path):\n",
        "        if i.endswith('.txt'):\n",
        "            dem += 1\n",
        "            f = open(path + '/' + i, \"r\")\n",
        "            content = f.read()\n",
        "            lst = content.split('\\n')\n",
        "            for i in lst:\n",
        "                temp = i.split()\n",
        "                if len(temp) == 0:\n",
        "                    continue\n",
        "                if temp[0] == '0':\n",
        "                    do += 1\n",
        "                elif temp[0] == '1':\n",
        "                    ngoaigiao += 1\n",
        "                elif temp[0] == '2':\n",
        "                    trang += 1\n",
        "                elif temp[0] == '3':\n",
        "                    vang += 1\n",
        "                else:\n",
        "                    xanh += 1\n",
        "            f.close()\n",
        "\n",
        "    print('Nhãn : ', dem)\n",
        "    return do, ngoaigiao, trang, vang, xanh "
      ]
    },
    {
      "cell_type": "code",
      "execution_count": null,
      "metadata": {
        "id": "1L4YJ3MAAzXU"
      },
      "outputs": [],
      "source": [
        "# set up environment\n",
        "os.environ[\"DATASET_DIRECTORY\"] = \"/content/datasets\""
      ]
    },
    {
      "cell_type": "code",
      "execution_count": null,
      "metadata": {
        "colab": {
          "base_uri": "https://localhost:8080/"
        },
        "id": "8cgGcJXUtSPO",
        "outputId": "2de59b03-bc2b-4838-ac51-5a57d36366f9"
      },
      "outputs": [
        {
          "name": "stdout",
          "output_type": "stream",
          "text": [
            "names:\n",
            "- Bien_do\n",
            "- Bien_ngoaigiao\n",
            "- Bien_trang\n",
            "- Bien_vang\n",
            "- Bien_xanh\n",
            "nc: 5\n",
            "roboflow:\n",
            "  license: CC BY 4.0\n",
            "  project: biensoxe-7geys\n",
            "  url: https://universe.roboflow.com/uit-5rhkt/biensoxe-7geys/dataset/5\n",
            "  version: 5\n",
            "  workspace: uit-5rhkt\n",
            "test: ../test/images\n",
            "train: BIENSOXE-5/train/images\n",
            "val: BIENSOXE-5/valid/images\n"
          ]
        }
      ],
      "source": [
        "%cat {dataset.location}/data.yaml"
      ]
    },
    {
      "cell_type": "code",
      "execution_count": null,
      "metadata": {
        "id": "Z_7YKnL1u9Q8"
      },
      "outputs": [],
      "source": [
        "import os"
      ]
    },
    {
      "cell_type": "code",
      "execution_count": null,
      "metadata": {
        "colab": {
          "base_uri": "https://localhost:8080/"
        },
        "id": "t6QCAshUu1s5",
        "outputId": "908b2ac7-139f-4d87-db88-9e626278ddcd"
      },
      "outputs": [
        {
          "name": "stdout",
          "output_type": "stream",
          "text": [
            "Total: 2131\n",
            "Train: 1493\n",
            "Val: 414\n",
            "Test: 224\n"
          ]
        }
      ],
      "source": [
        "# print('Train: {}'.format(len(os.listdir('/content/yolov5/BIENSOXE-5/train/images'))+len(os.listdir('/content/yolov5/BIENSOXE-5/train/labels'))))\n",
        "print('Total: {}'.format(len(os.listdir('/content/yolov5/BIENSOXE-5/train/images'))+len(os.listdir('/content/yolov5/BIENSOXE-5/valid/images'))+len(os.listdir('/content/yolov5/BIENSOXE-5/test/images'))))\n",
        "print('Train: {}'.format(len(os.listdir('/content/yolov5/BIENSOXE-5/train/images'))))\n",
        "print('Val: {}'.format(len(os.listdir('/content/yolov5/BIENSOXE-5/valid/images'))))\n",
        "print('Test: {}'.format(len(os.listdir('/content/yolov5/BIENSOXE-5/test/images'))))"
      ]
    },
    {
      "cell_type": "code",
      "execution_count": null,
      "metadata": {
        "colab": {
          "base_uri": "https://localhost:8080/"
        },
        "id": "tszXvjsMyrZk",
        "outputId": "2fcb2c0e-a2e5-479c-d94a-874f564bc11b"
      },
      "outputs": [
        {
          "name": "stdout",
          "output_type": "stream",
          "text": [
            "Nhãn :  1493\n",
            "Bien do: 83\n",
            "Bien ngoai giao : 57\n",
            "Bien trang: 2120\n",
            "Bien vang: 194\n",
            "Bien xanh: 78\n"
          ]
        }
      ],
      "source": [
        "bien_do_train, bien_ngoai_giao_train, bien_trang_train, bien_vang_train, bien_xanh_train = thong_ke('/content/yolov5/BIENSOXE-5/train/labels') \n",
        "\n",
        "print(f'Bien do: {bien_do_train}')\n",
        "print(f'Bien ngoai giao : {bien_ngoai_giao_train}')\n",
        "print(f'Bien trang: {bien_trang_train}')\n",
        "print(f'Bien vang: {bien_vang_train}')\n",
        "print(f'Bien xanh: {bien_xanh_train}')"
      ]
    },
    {
      "cell_type": "code",
      "execution_count": null,
      "metadata": {
        "id": "VXnvgqznrGbf"
      },
      "outputs": [],
      "source": [
        "import matplotlib.pyplot as plt"
      ]
    },
    {
      "cell_type": "code",
      "execution_count": null,
      "metadata": {
        "colab": {
          "base_uri": "https://localhost:8080/",
          "height": 277
        },
        "id": "lrUZP2Jpth5n",
        "outputId": "2df56303-cd6f-4c11-863e-bdf7879dea33"
      },
      "outputs": [
        {
          "name": "stdout",
          "output_type": "stream",
          "text": [
            "Looking in indexes: https://pypi.org/simple, https://us-python.pkg.dev/colab-wheels/public/simple/\n",
            "Collecting Pillow==9.0.0\n",
            "  Downloading Pillow-9.0.0-cp38-cp38-manylinux_2_17_x86_64.manylinux2014_x86_64.whl (4.3 MB)\n",
            "\u001b[2K     \u001b[90m━━━━━━━━━━━━━━━━━━━━━━━━━━━━━━━━━━━━━━━━\u001b[0m \u001b[32m4.3/4.3 MB\u001b[0m \u001b[31m47.0 MB/s\u001b[0m eta \u001b[36m0:00:00\u001b[0m\n",
            "\u001b[?25hInstalling collected packages: Pillow\n",
            "  Attempting uninstall: Pillow\n",
            "    Found existing installation: Pillow 9.4.0\n",
            "    Uninstalling Pillow-9.4.0:\n",
            "      Successfully uninstalled Pillow-9.4.0\n",
            "Successfully installed Pillow-9.0.0\n"
          ]
        },
        {
          "data": {
            "application/vnd.colab-display-data+json": {
              "pip_warning": {
                "packages": [
                  "PIL"
                ]
              }
            }
          },
          "metadata": {},
          "output_type": "display_data"
        }
      ],
      "source": [
        "pip install Pillow==9.0.0"
      ]
    },
    {
      "cell_type": "markdown",
      "source": [
        "Tập train "
      ],
      "metadata": {
        "id": "nAFFw_CYy0ip"
      }
    },
    {
      "cell_type": "code",
      "execution_count": null,
      "metadata": {
        "colab": {
          "base_uri": "https://localhost:8080/",
          "height": 429
        },
        "id": "EsUb9pjZtUv9",
        "outputId": "819b2738-7cf2-4dda-813d-a7764a40771c"
      },
      "outputs": [
        {
          "data": {
            "image/png": "[encoded data removed]",
            "text/plain": [
              "<Figure size 1200x480 with 1 Axes>"
            ]
          },
          "metadata": {
            "needs_background": "light"
          },
          "output_type": "display_data"
        }
      ],
      "source": [
        "from matplotlib.pyplot import figure\n",
        "import numpy as np\n",
        "figure(figsize=(15, 6), dpi=80)\n",
        "x = np.array(['bien_do','bien_ngoai_giao','bien_trang','bien_vang', 'bien_xanh'])\n",
        "y = np.array([bien_do_train,bien_ngoai_giao_train,bien_trang_train,bien_vang_train,bien_xanh_train])\n",
        "plt.barh(x,y)\n",
        "for i, v in enumerate(y):\n",
        "    plt.text(v, i, str(v), color='red', fontweight='bold')\n",
        "plt.xlabel(\"Các loại biển trên tập dữ liệu train\")\n",
        "plt.show()"
      ]
    },
    {
      "cell_type": "markdown",
      "source": [
        "Tập test "
      ],
      "metadata": {
        "id": "qXgtQB9iy5H0"
      }
    },
    {
      "cell_type": "code",
      "execution_count": null,
      "metadata": {
        "colab": {
          "base_uri": "https://localhost:8080/"
        },
        "id": "jjiNZJGdzykV",
        "outputId": "5665cb20-c8b3-4aae-b993-2cd5f15c2a0b"
      },
      "outputs": [
        {
          "name": "stdout",
          "output_type": "stream",
          "text": [
            "Nhãn :  224\n",
            "Bien do: 12\n",
            "Bien ngoai giao : 10\n",
            "Bien trang: 307\n",
            "Bien vang: 35\n",
            "Bien xanh: 15\n"
          ]
        }
      ],
      "source": [
        "bien_do_test, bien_ngoai_giao_test, bien_trang_test, bien_vang_test, bien_xanh_test = thong_ke('/content/yolov5/BIENSOXE-5/test/labels') \n",
        "\n",
        "print(f'Bien do: {bien_do_test}')\n",
        "print(f'Bien ngoai giao : {bien_ngoai_giao_test}')\n",
        "print(f'Bien trang: {bien_trang_test}')\n",
        "print(f'Bien vang: {bien_vang_test}')\n",
        "print(f'Bien xanh: {bien_xanh_test}')"
      ]
    },
    {
      "cell_type": "code",
      "execution_count": null,
      "metadata": {
        "colab": {
          "base_uri": "https://localhost:8080/",
          "height": 429
        },
        "id": "LPEqeqA5yZmj",
        "outputId": "74d3d3f6-46c2-4738-ba37-0204e7cb2375"
      },
      "outputs": [
        {
          "data": {
            "image/png": "[encoded data removed]",
            "text/plain": [
              "<Figure size 1200x480 with 1 Axes>"
            ]
          },
          "metadata": {
            "needs_background": "light"
          },
          "output_type": "display_data"
        }
      ],
      "source": [
        "figure(figsize=(15, 6), dpi=80)\n",
        "x = np.array(['bien_do','bien_ngoai_giao','bien_trang','bien_vang', 'bien_xanh'])\n",
        "y = np.array([bien_do_test,bien_ngoai_giao_test,bien_trang_test,bien_vang_test,bien_xanh_test])\n",
        "plt.barh(x,y)\n",
        "for i, v in enumerate(y):\n",
        "    plt.text(v, i, str(v), color='blue', fontweight='bold')\n",
        "plt.xlabel(\"Các loại biển trên tập dữ liệu test\")\n",
        "plt.show()\n"
      ]
    },
    {
      "cell_type": "markdown",
      "source": [
        "Tập valid "
      ],
      "metadata": {
        "id": "UBHBeQmLyw17"
      }
    },
    {
      "cell_type": "code",
      "execution_count": null,
      "metadata": {
        "colab": {
          "base_uri": "https://localhost:8080/"
        },
        "id": "e-ldGlK9z3qx",
        "outputId": "13d9cb6d-529e-4773-dbae-e87bf4ede553"
      },
      "outputs": [
        {
          "name": "stdout",
          "output_type": "stream",
          "text": [
            "Nhãn :  414\n",
            "Bien do: 23\n",
            "Bien ngoai giao : 15\n",
            "Bien trang: 617\n",
            "Bien vang: 43\n",
            "Bien xanh: 26\n"
          ]
        }
      ],
      "source": [
        "bien_do_valid, bien_ngoai_giao_valid, bien_trang_valid, bien_vang_valid, bien_xanh_valid = thong_ke('/content/yolov5/BIENSOXE-5/valid/labels') \n",
        "\n",
        "print(f'Bien do: {bien_do_vaid}')\n",
        "print(f'Bien ngoai giao : {bien_ngoai_giao_vaid}')\n",
        "print(f'Bien trang: {bien_trang_valid}')\n",
        "print(f'Bien vang: {bien_vang_valid}')\n",
        "print(f'Bien xanh: {bien_xanh_valid}')"
      ]
    },
    {
      "cell_type": "code",
      "execution_count": null,
      "metadata": {
        "colab": {
          "base_uri": "https://localhost:8080/",
          "height": 429
        },
        "id": "ffZwZOR_ykRm",
        "outputId": "7c87cb07-6fb4-43c9-df85-f1bd56860aa1"
      },
      "outputs": [
        {
          "data": {
            "image/png": "[encoded data removed]",
            "text/plain": [
              "<Figure size 1200x480 with 1 Axes>"
            ]
          },
          "metadata": {
            "needs_background": "light"
          },
          "output_type": "display_data"
        }
      ],
      "source": [
        "figure(figsize=(15, 6), dpi=80)\n",
        "x = np.array(['bien_do', 'bien_ngoai_giao', 'bien_trang', 'bien_vang', 'bien_xanh'])\n",
        "y = np.array([bien_do_valid, bien_ngoai_giao_valid, bien_trang_valid, bien_vang_valid, bien_xanh_valid])\n",
        "plt.barh(x, y)\n",
        "for i, v in enumerate(y):\n",
        "    plt.text(v, i, str(v), color='red', fontweight='bold')\n",
        "plt.xlabel(\"Các loại biển trên tập dữ liệu vaild\")\n",
        "plt.show()"
      ]
    },
    {
      "cell_type": "markdown",
      "source": [
        "Trên toàn bộ dữ liệu "
      ],
      "metadata": {
        "id": "hZdqecR9yr3L"
      }
    },
    {
      "cell_type": "code",
      "execution_count": null,
      "metadata": {
        "colab": {
          "base_uri": "https://localhost:8080/"
        },
        "id": "CH2Oy-sYMv_3",
        "outputId": "c109fdaf-5fec-461a-8632-0ba158e954c2"
      },
      "outputs": [
        {
          "name": "stdout",
          "output_type": "stream",
          "text": [
            "Biển đỏ trong toàn bộ: 118\n",
            "Biển ngoại giao trong toàn bộ: 82\n",
            "Biển trắng trong toàn bộ: 3044\n",
            "Biển vàng trong toàn bộ: 272\n",
            "Biển xanh trong toàn bộ: 119\n"
          ]
        }
      ],
      "source": [
        "print(f'Biển đỏ trong toàn bộ: {bien_do_test+bien_do_train+bien_do_vaid}')\n",
        "print(f'Biển ngoại giao trong toàn bộ: {bien_ngoai_giao_test+bien_ngoai_giao_train+bien_ngoai_giao_valid}')\n",
        "print(f'Biển trắng trong toàn bộ: {bien_trang_test+bien_trang_train+bien_trang_valid}')\n",
        "print(f'Biển vàng trong toàn bộ: {bien_vang_test+bien_vang_train+bien_vang_valid}')\n",
        "print(f'Biển xanh trong toàn bộ: {bien_xanh_test+bien_xanh_train+bien_xanh_valid}')"
      ]
    },
    {
      "cell_type": "code",
      "execution_count": null,
      "metadata": {
        "colab": {
          "base_uri": "https://localhost:8080/",
          "height": 429
        },
        "id": "qsG3cFtPLyFC",
        "outputId": "21c817a3-af15-45a1-9ba7-366ec0e1e266"
      },
      "outputs": [
        {
          "data": {
            "image/png": "[encoded data removed]",
            "text/plain": [
              "<Figure size 1200x480 with 1 Axes>"
            ]
          },
          "metadata": {
            "needs_background": "light"
          },
          "output_type": "display_data"
        }
      ],
      "source": [
        "from matplotlib.pyplot import figure\n",
        "import numpy as np\n",
        "figure(figsize=(15, 6), dpi=80)\n",
        "x = np.array(['bien_do','bien_ngoai_giao','bien_trang','bien_vang', 'bien_xanh'])\n",
        "y = np.array([bien_do_train+bien_do_test+bien_do_valid,bien_ngoai_giao_train+bien_ngoai_giao_valid+bien_ngoai_giao_test,bien_trang_train+bien_trang_valid+bien_trang_test,bien_vang_train+bien_vang_test+bien_vang_valid,bien_xanh_train+bien_xanh_test+bien_xanh_valid])\n",
        "plt.barh(x,y)\n",
        "for i, v in enumerate(y):\n",
        "    plt.text(v, i, str(v), color='red', fontweight='bold')\n",
        "plt.xlabel(\"Các loại biển trên toàn bộ tập dữ liệu \")\n",
        "plt.show()"
      ]
    }
  ],
  "metadata": {
    "accelerator": "GPU",
    "colab": {
      "provenance": []
    },
    "gpuClass": "standard",
    "kernelspec": {
      "display_name": "Python 3",
      "name": "python3"
    },
    "language_info": {
      "name": "python"
    }
  },
  "nbformat": 4,
  "nbformat_minor": 0
}